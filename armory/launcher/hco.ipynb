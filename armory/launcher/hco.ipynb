{
 "cells": [
  {
   "cell_type": "code",
   "execution_count": 2,
   "metadata": {},
   "outputs": [],
   "source": [
    "from omegaconf import OmegaConf\n",
    "\n",
    "\n",
    "def show(x):\n",
    "    print(f\"type: {type(x).__name__}, value: {repr(x)}\")"
   ]
  },
  {
   "cell_type": "code",
   "execution_count": 3,
   "metadata": {},
   "outputs": [
    {
     "name": "stdout",
     "output_type": "stream",
     "text": [
      "type: DictConfig, value: {'a': 10, 'b': '${a}'}\n",
      "type: DictConfig, value: {'a': 10, 'b': 10}\n"
     ]
    }
   ],
   "source": [
    "cfg = OmegaConf.create({\"a\": 10, \"b\": \"${a}\"})\n",
    "show(cfg)\n",
    "assert cfg.a == cfg.b == 10  # lazily resolving interpolation\n",
    "OmegaConf.resolve(cfg)\n",
    "show(cfg)"
   ]
  },
  {
   "cell_type": "code",
   "execution_count": 4,
   "metadata": {},
   "outputs": [
    {
     "name": "stdout",
     "output_type": "stream",
     "text": [
      "type: DictConfig, value: {'_description': 'Baseline cifar10 image classification', 'adhoc': None, 'attack': {'knowledge': 'white', 'kwargs': {'batch_size': 1, 'eps': 0.031, 'eps_step': 0.007, 'max_iter': 20, 'num_random_init': 1, 'random_eps': False, 'targeted': False, 'verbose': False}, 'module': 'art.attacks.evasion', 'name': 'ProjectedGradientDescent', 'use_label': True}, 'dataset': {'batch_size': 64, 'framework': 'numpy', 'module': 'armory.data.datasets', 'name': 'cifar10'}, 'defense': None, 'metric': {'means': True, 'perturbation': 'linf', 'record_metric_per_sample': False, 'task': ['categorical_accuracy']}, 'model': {'fit': True, 'fit_kwargs': {'nb_epochs': 20}, 'model_kwargs': {}, 'module': 'armory.baseline_models.pytorch.cifar', 'name': 'get_art_model', 'weights_file': None, 'wrapper_kwargs': {}}, 'scenario': {'kwargs': {}, 'module': 'armory.scenarios.image_classification', 'name': 'ImageClassificationTask'}, 'sysconfig': {'docker_image': 'twosixarmory/pytorch', 'external_github_repo': None, 'gpus': 'all', 'output_dir': None, 'output_filename': None, 'use_gpu': False}}\n"
     ]
    }
   ],
   "source": [
    "from pathlib import Path\n",
    "\n",
    "yaml = Path(\"conf/cifar10.yaml\").read_text()\n",
    "experiment = OmegaConf.create(yaml)\n",
    "show(experiment)"
   ]
  },
  {
   "cell_type": "code",
   "execution_count": 6,
   "metadata": {},
   "outputs": [
    {
     "name": "stdout",
     "output_type": "stream",
     "text": [
      "type: DictConfig, value: {'_description': 'overrode with targeted config', 'attack': {'max_iter': 1000, 'random_eps': True}, 'model': {'model_kwargs': {'fee': 'foo'}}}\n"
     ]
    }
   ],
   "source": [
    "targeted = OmegaConf.create(Path(\"conf/override.yaml\").read_text())\n",
    "show(targeted)"
   ]
  },
  {
   "cell_type": "code",
   "execution_count": 7,
   "metadata": {},
   "outputs": [
    {
     "name": "stdout",
     "output_type": "stream",
     "text": [
      "type: DictConfig, value: {'_description': 'overrode with targeted config', 'adhoc': None, 'attack': {'knowledge': 'white', 'kwargs': {'batch_size': 1, 'eps': 0.031, 'eps_step': 0.007, 'max_iter': 20, 'num_random_init': 1, 'random_eps': False, 'targeted': False, 'verbose': False}, 'module': 'art.attacks.evasion', 'name': 'ProjectedGradientDescent', 'use_label': True, 'max_iter': 1000, 'random_eps': True}, 'dataset': {'batch_size': 64, 'framework': 'numpy', 'module': 'armory.data.datasets', 'name': 'cifar10'}, 'defense': None, 'metric': {'means': True, 'perturbation': 'linf', 'record_metric_per_sample': False, 'task': ['categorical_accuracy']}, 'model': {'fit': True, 'fit_kwargs': {'nb_epochs': 20}, 'model_kwargs': {'fee': 'foo'}, 'module': 'armory.baseline_models.pytorch.cifar', 'name': 'get_art_model', 'weights_file': None, 'wrapper_kwargs': {}}, 'scenario': {'kwargs': {}, 'module': 'armory.scenarios.image_classification', 'name': 'ImageClassificationTask'}, 'sysconfig': {'docker_image': 'twosixarmory/pytorch', 'external_github_repo': None, 'gpus': 'all', 'output_dir': None, 'output_filename': None, 'use_gpu': False}}\n"
     ]
    }
   ],
   "source": [
    "merged = OmegaConf.merge(experiment, targeted)\n",
    "show(merged)"
   ]
  }
 ],
 "metadata": {
  "kernelspec": {
   "display_name": "Python 3.10.6 ('armory')",
   "language": "python",
   "name": "python3"
  },
  "language_info": {
   "codemirror_mode": {
    "name": "ipython",
    "version": 3
   },
   "file_extension": ".py",
   "mimetype": "text/x-python",
   "name": "python",
   "nbconvert_exporter": "python",
   "pygments_lexer": "ipython3",
   "version": "3.10.6"
  },
  "orig_nbformat": 4,
  "vscode": {
   "interpreter": {
    "hash": "40843df0e25ccecaa63788d1d9768af687e7a2468fdbcf8a13149815ab8fc13f"
   }
  }
 },
 "nbformat": 4,
 "nbformat_minor": 2
}
